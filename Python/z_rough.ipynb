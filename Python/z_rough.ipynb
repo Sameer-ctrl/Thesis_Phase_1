{
 "cells": [
  {
   "cell_type": "code",
   "execution_count": 1,
   "metadata": {},
   "outputs": [],
   "source": [
    "from astropy.io import fits,ascii\n",
    "from astropy.table import Table,Column\n",
    "import matplotlib.pyplot as plt\n",
    "from numpy import *\n",
    "from scipy.integrate import simpson"
   ]
  },
  {
   "cell_type": "markdown",
   "metadata": {},
   "source": [
    "'VIMOS Data'"
   ]
  },
  {
   "cell_type": "code",
   "execution_count": 3,
   "metadata": {},
   "outputs": [
    {
     "name": "stdout",
     "output_type": "stream",
     "text": [
      "['Sequence_number', 'Isophotal_flux', 'X_coordinate', 'X_coordinate_err', 'Y_coordinate', 'Y_coordinate_err', 'Gaussian_sigma', 'Ellipticity', 'Position_angle', 'Areal_1_profile', 'Areal_2_profile', 'Areal_3_profile', 'Areal_4_profile', 'Areal_5_profile', 'Areal_6_profile', 'Areal_7_profile', 'Areal_8_profile', 'Peak_height', 'Peak_height_err', 'Aper_flux_1', 'Aper_flux_1_err', 'Aper_flux_2', 'Aper_flux_2_err', 'Aper_flux_3', 'Aper_flux_3_err', 'Aper_flux_4', 'Aper_flux_4_err', 'Aper_flux_5', 'Aper_flux_5_err', 'Aper_flux_6', 'Aper_flux_6_err', 'Aper_flux_7', 'Aper_flux_7_err', 'Aper_flux_8', 'Aper_flux_8_err', 'Aper_flux_9', 'Aper_flux_9_err', 'Aper_flux_10', 'Aper_flux_10_err', 'Aper_flux_11', 'Aper_flux_11_err', 'Aper_flux_12', 'Aper_flux_12_err', 'Aper_flux_13', 'Aper_flux_13_err', 'Petr_radius', 'Kron_radius', 'Half_radius', 'Petr_flux', 'Petr_flux_err', 'Kron_flux', 'Kron_flux_err', 'Half_flux', 'Half_flux_err', 'Error_bit_flag', 'Sky_level', 'Sky_rms', 'Av_conf', 'RA', 'DEC', 'Classification', 'Statistic', 'Blank63', 'Blank64', 'Blank65', 'Blank66', 'Blank67', 'Blank68', 'Blank69', 'Blank70', 'Blank71', 'Blank72', 'Blank73', 'Blank74', 'Blank75', 'Blank76', 'Blank77', 'Blank78', 'Blank79', 'Blank80']\n"
     ]
    }
   ],
   "source": [
    "hdu=fits.open('Data/VIMOS_PG0003+158/ADP.2019-01-10T15:06:09.848.fits')\n",
    "data=Table(hdu[1].data)\n",
    "\n",
    "print(data.colnames)"
   ]
  },
  {
   "cell_type": "markdown",
   "metadata": {},
   "source": [
    "Composite fit from individual fits"
   ]
  },
  {
   "cell_type": "code",
   "execution_count": null,
   "metadata": {},
   "outputs": [],
   "source": [
    "file_path='Data/VPfit_fits_rebinned/Metals_HI'\n",
    "\n",
    "data=loadtxt(f'{file_path}/HI_1025.txt',comments='!')\n",
    "wave=data[:,0]\n",
    "cont=data[:,3]\n",
    "\n",
    "data1=loadtxt(f'{file_path}/HI_1025_1.txt',comments='!')\n",
    "wave1=data1[:,0]\n",
    "cont1=data1[:,3]\n",
    "\n",
    "data2=loadtxt(f'{file_path}/HI_1025_2.txt',comments='!')\n",
    "wave2=data2[:,0]\n",
    "cont2=data2[:,3]\n",
    "\n",
    "data3=loadtxt(f'{file_path}/HI_1025_3.txt',comments='!')\n",
    "wave3=data3[:,0]\n",
    "cont3=data3[:,3]\n",
    "\n",
    "\n",
    "plt.plot(wave,cont)\n",
    "plt.plot(wave1,cont1,ls='--')\n",
    "plt.plot(wave2,cont2,ls='--')\n",
    "plt.plot(wave3,cont3,ls='--')\n",
    "plt.plot(wave,(cont1+cont2+cont3)-2,ls='-.')\n",
    "\n",
    "plt.show()"
   ]
  },
  {
   "cell_type": "markdown",
   "metadata": {},
   "source": [
    "Velocity separation between two redshifts"
   ]
  },
  {
   "cell_type": "code",
   "execution_count": null,
   "metadata": {},
   "outputs": [],
   "source": [
    "z1=0.347\n",
    "z2=0.34835\n",
    "\n",
    "del_v=3e5*((1+z1)**2-(1+z2)**2)/((1+z1)**2+(1+z2)**2)\n",
    "print(del_v)"
   ]
  },
  {
   "cell_type": "markdown",
   "metadata": {},
   "source": [
    "comparison of different continuum, binning"
   ]
  },
  {
   "cell_type": "code",
   "execution_count": null,
   "metadata": {},
   "outputs": [],
   "source": [
    "low=loadtxt('Data/fit_param_binned_low.txt',dtype=str)\n",
    "high=loadtxt('Data/fit_param_binned_high.txt',dtype=str)\n",
    "mean_cont=loadtxt('Data/fit_param_binned_mean.txt',dtype=str)\n",
    "unbinned=loadtxt('Data/fit_param_unbinned.txt',dtype=str)\n",
    "\n",
    "class fits_param():\n",
    "\n",
    "    def __init__(self,data):\n",
    "        \n",
    "        self.lines=data[1:,0]\n",
    "        self.z=data[1:,1].astype(float)\n",
    "        self.b=data[1:,3].astype(float)\n",
    "        self.logN=data[1:,5].astype(float)\n",
    "        self.err_z=data[1:,2].astype(float)\n",
    "        self.err_b=data[1:,4].astype(float)\n",
    "        self.err_logN=data[1:,6].astype(float)\n",
    "        self.chi_sq=data[1:,7].astype(float)\n",
    "\n",
    "\n",
    "    def plot_param(self,param,spec):\n",
    "\n",
    "        x=linspace(1,len(self.lines),len(self.lines))\n",
    "\n",
    "        if param=='z':\n",
    "            y=self.z\n",
    "            err=self.err_z\n",
    "        \n",
    "        elif param=='b':\n",
    "            y=self.b\n",
    "            err=self.err_b\n",
    "        \n",
    "        elif param=='logN':\n",
    "            y=self.logN\n",
    "            err=self.err_logN\n",
    "        \n",
    "        elif param=='chi_sq':\n",
    "            y=self.chi_sq\n",
    "            \n",
    "\n",
    "        plt.scatter(x,y,label=spec,s=50)\n",
    "        plt.plot(x,y,ls='--')\n",
    "        plt.ylabel(f'{param}',labelpad=15)\n",
    "        plt.xlabel('line',labelpad=15)\n",
    "        plt.xticks(x,self.lines)\n",
    "\n",
    "fits_param_low=fits_param(low)\n",
    "fits_param_high=fits_param(high)\n",
    "fits_param_mean=fits_param(mean_cont)\n",
    "\n",
    "err_ml=fits_param_mean.logN-fits_param_low.logN\n",
    "err_mh=fits_param_mean.logN-fits_param_high.logN\n",
    "\n",
    "err_ml=[abs(round(x,2)) for x in err_ml]\n",
    "err_mh=[abs(round(x,2)) for x in err_mh]\n",
    "\n",
    "print(err_ml)\n",
    "print(err_mh)\n",
    "\n",
    "fits_param_unbinned=fits_param(unbinned)\n",
    "\n",
    "plt.figure()\n",
    "\n",
    "fits_param_mean.plot_param('chi_sq','rebinned')\n",
    "# fits_param_low.plot_param('z','lower continuum')\n",
    "# fits_param_high.plot_param('z','upper continuum')\n",
    "fits_param_unbinned.plot_param('chi_sq','oversampled')\n",
    "plt.title(r'${\\chi}^{2}$ values for rebinned and oversampled spectrum')\n",
    "\n",
    "plt.legend()\n",
    "plt.show()"
   ]
  },
  {
   "cell_type": "markdown",
   "metadata": {},
   "source": [
    "'bin v/s unbinned spectrum plot'"
   ]
  },
  {
   "cell_type": "code",
   "execution_count": null,
   "metadata": {},
   "outputs": [],
   "source": [
    "file='PG0003+158_rebinned.fits'\n",
    "\n",
    "data_a=loadtxt('Data/spec_PG0003+158_v3.dat')\n",
    "\n",
    "wave_a=data_a['WAVE']\n",
    "flux_a=data_a['FLUX']\n",
    "\n",
    "hdu_org=fits.open('Data/PG0003+158.fits')\n",
    "data_org=Table(hdu_org[1].data)\n",
    "\n",
    "wave_org=data_org['WAVE'][data_org['WAVE']>=1132.7]\n",
    "flux_org=data_org['FLUX'][data_org['WAVE']>=1132.7]\n",
    "\n",
    "\n",
    "hdu=fits.open(f'Data/{file}')\n",
    "data=Table(hdu[1].data)\n",
    "\n",
    "wave=data['WAVE']\n",
    "flux=data['FLUX']\n",
    "cont=data['CONT_FLUX']\n",
    "err=data['ERROR']\n",
    "\n",
    "\n",
    "plt.step(wave_org,flux_org,label='Unbinned spectrum')\n",
    "plt.step(wave,flux,label='My rebinned spectrum')\n",
    "plt.step(wave_a,flux_a,label='Your rebinned spectrum')\n",
    "# plt.plot(wave,cont,label='mean')\n",
    "# plt.plot(wave,cont*0.97,label='lower',ls='--')\n",
    "# plt.plot(wave,cont*1.03,label='upper',ls='--')\n",
    "plt.ylabel('Flux')\n",
    "plt.xlabel('Wavelength')\n",
    "plt.legend()\n",
    "plt.show()"
   ]
  },
  {
   "cell_type": "markdown",
   "metadata": {},
   "source": [
    "'equivalent width'"
   ]
  },
  {
   "cell_type": "code",
   "execution_count": null,
   "metadata": {},
   "outputs": [],
   "source": [
    "hdu_unbin=fits.open('Data/PG0003+158_unbinned.fits')\n",
    "hdu_bin=fits.open('Data/PG0003+158_rebinned.fits')\n",
    "\n",
    "class Spectrum():\n",
    "\n",
    "    def __init__(self,hdu):\n",
    "\n",
    "        data=Table(hdu[1].data)\n",
    "\n",
    "        self.wave=data['WAVE']\n",
    "        self.flux=data['FLUX']\n",
    "        self.cont=data['CONT_FLUX']\n",
    "        self.err=data['ERROR']\n",
    "    \n",
    "    def eqw(self,ions):\n",
    "        \n",
    "        cont=self.cont\n",
    "        wave=self.wave\n",
    "        flux=self.flux\n",
    "\n",
    "        eq_w=[]\n",
    "\n",
    "        for i in ions:\n",
    "\n",
    "            wave_slice=[]\n",
    "            flux_slice=[]\n",
    "            cont_slice=[]\n",
    "\n",
    "            for j in range(len(wave)):\n",
    "                if ions[i][0] <= wave[j] <= ions[i][1]:\n",
    "                    wave_slice.append(wave[j])\n",
    "                    flux_slice.append(flux[j])\n",
    "                    cont_slice.append(cont[j])\n",
    "\n",
    "            integral=simpson(flux_slice,wave_slice)\n",
    "            w=(ions[i][1]-ions[i][0])-(integral/mean(cont_slice))\n",
    "\n",
    "            eq_w.append(w)\n",
    "\n",
    "        return eq_w\n",
    "\n",
    "\n",
    "\n",
    "ions={'Ha':[1636.55,1639.225],'Hb':[1381.1,1383.264],'OVI_1031':[1389.856,1391.254],'OVI_1037':[1397.816,1398.877],'CII':[1396.727,1396.995],'CIII':[1310.485,1311.182],'SiII':[1698.778,1699.039],'SiIII':[1626.068,1626.403]}\n",
    "\n",
    "\n",
    "spec_unbin=Spectrum(hdu_unbin)\n",
    "spec_bin=Spectrum(hdu_bin)\n",
    "\n",
    "plt.step(spec_bin.wave,spec_bin.flux)\n",
    "plt.show()\n",
    "\n",
    "eq_w_unbin=array(spec_unbin.eqw(ions))\n",
    "eq_w_bin=array(spec_bin.eqw(ions))\n",
    "\n",
    "diff=eq_w_bin-eq_w_unbin\n",
    "\n",
    "x=linspace(1,len(ions),len(ions))\n",
    "\n",
    "plt.plot(x,eq_w_unbin,ls='--')\n",
    "plt.plot(x,eq_w_bin,ls='--')\n",
    "plt.scatter(x,eq_w_unbin,label='unbinned')\n",
    "plt.scatter(x,eq_w_bin,label='rebinned')\n",
    "plt.xticks(x,ions.keys())\n",
    "plt.xlabel('Lines',labelpad=15)\n",
    "plt.ylabel('Equivalent Width',labelpad=15)\n",
    "plt.legend()\n",
    "plt.show()\n",
    "\n",
    "plt.step(spec_unbin.wave,spec_unbin.flux)\n",
    "plt.plot(spec_unbin.wave,spec_unbin.cont)\n",
    "plt.show()"
   ]
  },
  {
   "cell_type": "markdown",
   "metadata": {},
   "source": [
    "'Velocity separation of components'"
   ]
  },
  {
   "cell_type": "code",
   "execution_count": null,
   "metadata": {},
   "outputs": [],
   "source": [
    "data=loadtxt('wavelengths_fit.txt',dtype=str)\n",
    "data_rest=loadtxt('Data/rest_wave.txt',dtype=str)\n",
    "\n",
    "ion=data_rest[:,1]\n",
    "wave_rest=data_rest[:,0].astype(float)\n",
    "\n",
    "rest_wave={}\n",
    "\n",
    "for i in range(len(ion)):\n",
    "    rest_wave.update({ion[i]:wave_rest[i]})\n",
    "\n",
    "line=data[1:,0]\n",
    "wave=data[1:,1].astype(float)\n",
    "v=[]\n",
    "\n",
    "z_abs=(wave[3]-rest_wave['OVI_1031'])/rest_wave['OVI_1031']\n",
    "\n",
    "for i in range(len(line)):\n",
    "\n",
    "    cen_wave_obs=(1+z_abs)*rest_wave[line[i]]\n",
    "    a=((wave[i]**2-(cen_wave_obs**2))/(wave[i]**2+(cen_wave_obs**2)))\n",
    "    v.append(3e5*(a))\n",
    "\n",
    "print(line)\n",
    "print(v)"
   ]
  },
  {
   "cell_type": "markdown",
   "metadata": {},
   "source": [
    "'temperature using 0 VI and HI'"
   ]
  },
  {
   "cell_type": "code",
   "execution_count": 1,
   "metadata": {},
   "outputs": [
    {
     "name": "stdout",
     "output_type": "stream",
     "text": [
      "5.287870791392982 194030.85231256136\n",
      "5.212638782879954 163169.4249143681\n",
      "5.3530537760647015 225451.8358271738\n"
     ]
    }
   ],
   "source": [
    "# bHI=62.49162\n",
    "# bOVI=29.63435\n",
    "\n",
    "# T=(16/(15*(0.129**2)))*(bHI**2-(bOVI**2))\n",
    "\n",
    "from numpy import log10\n",
    "\n",
    "bHI=[62.49,2.92]\n",
    "bOVI=[29.63,2.04]\n",
    "\n",
    "T=(16/(15*(0.129**2)))*(bHI[0]**2-(bOVI[0]**2))\n",
    "T_low=(16/(15*(0.129**2)))*((bHI[0]-bHI[1])**2-((bOVI[0]+bOVI[1])**2))\n",
    "T_high=(16/(15*(0.129**2)))*((bHI[0]+bHI[1])**2-((bOVI[0]-bOVI[1])**2))\n",
    "\n",
    "print(log10(T),T)\n",
    "print(log10(T_low),T_low)\n",
    "print(log10(T_high),T_high)\n"
   ]
  }
 ],
 "metadata": {
  "kernelspec": {
   "display_name": "Python 3",
   "language": "python",
   "name": "python3"
  },
  "language_info": {
   "codemirror_mode": {
    "name": "ipython",
    "version": 3
   },
   "file_extension": ".py",
   "mimetype": "text/x-python",
   "name": "python",
   "nbconvert_exporter": "python",
   "pygments_lexer": "ipython3",
   "version": "3.8.10"
  },
  "orig_nbformat": 4
 },
 "nbformat": 4,
 "nbformat_minor": 2
}
