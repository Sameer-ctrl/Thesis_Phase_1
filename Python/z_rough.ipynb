{
 "cells": [
  {
   "cell_type": "code",
   "execution_count": 1,
   "metadata": {},
   "outputs": [],
   "source": [
    "from astropy.io import fits,ascii\n",
    "from astropy.table import Table,Column\n",
    "import matplotlib.pyplot as plt\n",
    "from numpy import *\n",
    "from scipy.integrate import simpson"
   ]
  },
  {
   "cell_type": "markdown",
   "metadata": {},
   "source": [
    "'dN/dz'"
   ]
  },
  {
   "cell_type": "code",
   "execution_count": 21,
   "metadata": {},
   "outputs": [
    {
     "name": "stdout",
     "output_type": "stream",
     "text": [
      "0.2685761540075716\n",
      "3634.036508040488\n",
      "1548.9982799418808\n",
      "\n"
     ]
    }
   ],
   "source": [
    "from  numpy import *\n",
    "\n",
    "rest_wave=1215.6701\n",
    "wave=array([1230,1556.5])\n",
    "z=(wave-rest_wave)/rest_wave\n",
    "\n",
    "print(z[1]-z[0])\n",
    "\n",
    "z_qso=0.297\n",
    "\n",
    "v_z=lambda z : 3e5*(((1+round(z,6))**2-1)/((1+round(z,6))**2+1))  # v at z\n",
    "z_v=lambda v : sqrt((1+((v)/3e5))/(1-((v)/3e5)))-1      # z at v\n",
    "\n",
    "v_qso=v_z(z_qso)\n",
    "v_z1=v_z(z[1])\n",
    "\n",
    "print(v_qso-v_z1)\n",
    "\n",
    "z_lim=z_v(v_qso-5000)\n",
    "\n",
    "print((z_lim+1)*rest_wave)\n",
    "print()\n",
    "\n",
    "\n",
    "\n",
    "\n",
    "\n"
   ]
  },
  {
   "cell_type": "code",
   "execution_count": null,
   "metadata": {},
   "outputs": [],
   "source": [
    "import matplotlib.pyplot as plt\n",
    "from numpy import *\n",
    "from scipy.interpolate import CubicSpline\n",
    "\n",
    "physical=array([0,5,6,7,8,9,10,11,12,13,14,15,16,17,18,19,20,21])\n",
    "pixel=array([1122,1589,1701,1822,1951,2091,2243,2408,2588,2784,3000,3239,3507,3816,4166,4564,5014,5526])\n",
    "\n",
    "f=CubicSpline(pixel,physical)\n",
    "\n",
    "\n",
    "plt.scatter(pixel,physical)\n",
    "plt.plot(linspace(1122,5526,2000),f(linspace(1122,5526,2000)),ls='--')\n",
    "# plt.yscale('log')\n",
    "# plt.xscale('log')\n",
    "plt.show()\n"
   ]
  },
  {
   "cell_type": "markdown",
   "metadata": {},
   "source": [
    "Error in T from doppler parameters"
   ]
  },
  {
   "cell_type": "code",
   "execution_count": 10,
   "metadata": {},
   "outputs": [
    {
     "name": "stdout",
     "output_type": "stream",
     "text": [
      "0.04136137922888112\n",
      "qso=pks0405\n",
      "z_abs=0.167125\n",
      "\n",
      "Δv = in\n",
      "bHi, err_bHi, bOvi, err_bOvi = [63,3,30,2]\n",
      "logT = 5.30 ± 0.09\n",
      "b_NT = 26 ± 2\n"
     ]
    }
   ],
   "source": [
    "from numpy import *\n",
    "from scipy.constants import * \n",
    "\n",
    "\n",
    "\n",
    "qso,z_abs=('pks0405',0.167125)\n",
    "# v='8 (out)'\n",
    "v='in'\n",
    "\n",
    "bHi,err_bHi,bOvi,err_bOvi = [63,3,30,2]\n",
    "\n",
    "print((2*err_bHi)/(log(10)*bHi))\n",
    "\n",
    "m=m_p+m_e\n",
    "\n",
    "err_T=((4/log(10))*(1/((bHi*1000)**2-(bOvi*1000)**2)**2)*(((bHi*1000)*(err_bHi*1000))**2+((bOvi*1000)*(err_bOvi*1000))**2))**0.5\n",
    "T=8*m*((bHi*1000)**2-(bOvi*1000)**2)/(15*k)\n",
    "bnT=sqrt(((4*bOvi)**2-(bHi**2))/(15))\n",
    "err_bnT=(1/(15*bnT))*sqrt((16*bOvi*err_bOvi)**2+(bHi*err_bHi)**2)\n",
    "\n",
    "# print(log10(T),err_T)\n",
    "# print(bnT,err_bnT)\n",
    "print(f'qso={qso}')\n",
    "print(f'z_abs={z_abs}\\n')\n",
    "print(f'\\u0394v = {v}')\n",
    "print(f'bHi, err_bHi, bOvi, err_bOvi = [{bHi},{err_bHi},{bOvi},{err_bOvi}]')\n",
    "print(f'logT = {log10(T):.2f} \\u00B1 {err_T:.2f}')\n",
    "print(f'b_NT = {bnT:.0f} \\u00B1 {err_bnT:.0f}')"
   ]
  },
  {
   "cell_type": "markdown",
   "metadata": {},
   "source": [
    "Composite fit from individual fits"
   ]
  },
  {
   "cell_type": "code",
   "execution_count": null,
   "metadata": {},
   "outputs": [],
   "source": [
    "file_path='Data/VPfit_fits_rebinned/Metals_HI'\n",
    "\n",
    "data=loadtxt(f'{file_path}/HI_1025.txt',comments='!')\n",
    "wave=data[:,0]\n",
    "cont=data[:,3]\n",
    "\n",
    "data1=loadtxt(f'{file_path}/HI_1025_1.txt',comments='!')\n",
    "wave1=data1[:,0]\n",
    "cont1=data1[:,3]\n",
    "\n",
    "data2=loadtxt(f'{file_path}/HI_1025_2.txt',comments='!')\n",
    "wave2=data2[:,0]\n",
    "cont2=data2[:,3]\n",
    "\n",
    "data3=loadtxt(f'{file_path}/HI_1025_3.txt',comments='!')\n",
    "wave3=data3[:,0]\n",
    "cont3=data3[:,3]\n",
    "\n",
    "\n",
    "plt.plot(wave,cont)\n",
    "plt.plot(wave1,cont1,ls='--')\n",
    "plt.plot(wave2,cont2,ls='--')\n",
    "plt.plot(wave3,cont3,ls='--')\n",
    "plt.plot(wave,(cont1*cont2*cont3),ls='-.')\n",
    "\n",
    "plt.show()"
   ]
  },
  {
   "cell_type": "markdown",
   "metadata": {},
   "source": [
    "Velocity separation between two redshifts"
   ]
  },
  {
   "cell_type": "code",
   "execution_count": 5,
   "metadata": {},
   "outputs": [
    {
     "name": "stdout",
     "output_type": "stream",
     "text": [
      "SiII :  68.7  :  1.4\n",
      "SiIII :  76.0  :  1.6\n",
      "CII :  65.2  :  1.2\n",
      "CIII :  74.2  :  0.8\n",
      "OVI :  0.0  :  1.0\n",
      "OVI :  61.8  :  1.2\n",
      "HI :  -167.9  :  3.3\n",
      "HI :  0.4  :  0.2\n",
      "HI :  67.3  :  0.2\n",
      "-0.0959998416074086\n",
      "\n",
      " [-167.91343527    0.40785484   67.28311305    0.           61.7791086\n",
      "   65.2446132    74.21383383   68.71004873   76.04839015]\n"
     ]
    }
   ],
   "source": [
    "from numpy import *\n",
    "# z1=array([0.346776,0.347585,0.347912,0.347579,0.347884,0.347895,0.347923,0.347901,0.347914]) \n",
    "# z1=array([0.083078,0.386036, 0.386296,0.421913]) \n",
    "# z2=0.347579\n",
    "z3=array([0.346763,0.347588,0.347916,0.347586,0.347889,0.347906,0.347950,0.347923,0.347959])\n",
    "z1=0.347586\n",
    "\n",
    "qso='pg0003'\n",
    "z_abs=0.347579\n",
    "\n",
    "file=f'../VPfit/{qso}/z={z_abs}/fit_params.txt'\n",
    "\n",
    "# qso_list=loadtxt('../Python/Data/qso_list.txt',dtype=str)\n",
    "# qso_dict=dict(zip(qso_list[:,1],qso_list[:,0]))\n",
    "# qso_label=qso_dict[qso]\n",
    "\n",
    "\n",
    "with open(file) as f:\n",
    "    data=f.read()\n",
    "    data=data.replace('A','')\n",
    "    # print(data)\n",
    "    # print('\\n')\n",
    "\n",
    "with open('temp_param_file.txt','w') as f:\n",
    "    f.write(data)\n",
    "\n",
    "param_file=loadtxt('temp_param_file.txt',dtype=str,comments=('>','#'))\n",
    "\n",
    "ions=param_file[:,0]\n",
    "z=param_file[:,1].astype(float)\n",
    "z_err=param_file[:,2].astype(float)\n",
    "\n",
    "z_ref=0.347586\n",
    "\n",
    "v_z=lambda z : 3e5*(((1+round(z,6))**2-1)/((1+round(z,6))**2+1))\n",
    "err_vz=lambda z,z_err: 4*3e5*((1+round(z,6))/(((1+round(z,6))**2)+1)**2)*round(z_err,6)\n",
    "\n",
    "v_z_ref=v_z(z_ref)\n",
    "\n",
    "for i in [0,1,2,3,8,9,10,11,12]:\n",
    "\n",
    "    print(f'{ions[i]} :  {v_z(z[i])-v_z_ref:.1f}  :  {err_vz(z[i],z_err[i]):.1f}')\n",
    "\n",
    "print(v_z(1.000001)-v_z(1.000002))\n",
    "\n",
    "\n",
    "def del_v(z,z_ref):\n",
    "\n",
    "    print('\\n',6e5*((1+z)**2-(1+z_ref)**2)/(((1+z)**2+1)*((1+z_ref)**2+1)))\n",
    "\n",
    "\n",
    "del_v(z3,z1)\n"
   ]
  },
  {
   "cell_type": "markdown",
   "metadata": {},
   "source": [
    "comparison of different continuum, binning"
   ]
  },
  {
   "cell_type": "code",
   "execution_count": 2,
   "metadata": {},
   "outputs": [
    {
     "name": "stdout",
     "output_type": "stream",
     "text": [
      "HI_1   2.1    0.09\n",
      "HI_2   0.19    1.58\n",
      "HI_3   0.22    0.29\n",
      "OVI_   1.08    2.69\n",
      "OVI_   1.27    0.78\n",
      "CII   0.35    0.05\n",
      "CIII   0.98    1.11\n",
      "SiII   0.57    0.15\n",
      "SiII   1.1    0.09\n"
     ]
    }
   ],
   "source": [
    "from numpy import *\n",
    "\n",
    "low=loadtxt('Data/sys_0,347_PG0003+158/fit_param_binned_low.txt',dtype=str)\n",
    "high=loadtxt('Data/sys_0,347_PG0003+158/fit_param_binned_high.txt',dtype=str)\n",
    "mean_cont=loadtxt('Data/sys_0,347_PG0003+158/fit_param_binned_mean.txt',dtype=str)\n",
    "unbinned=loadtxt('Data/sys_0,347_PG0003+158/fit_param_unbinned.txt',dtype=str)\n",
    "\n",
    "class fits_param():\n",
    "\n",
    "    def __init__(self,data):\n",
    "        \n",
    "        self.lines=data[1:,0]\n",
    "        self.z=data[1:,1].astype(float)\n",
    "        self.b=data[1:,3].astype(float)\n",
    "        self.logN=data[1:,5].astype(float)\n",
    "        self.err_z=data[1:,2].astype(float)\n",
    "        self.err_b=data[1:,4].astype(float)\n",
    "        self.err_logN=data[1:,6].astype(float)\n",
    "        self.chi_sq=data[1:,7].astype(float)\n",
    "\n",
    "\n",
    "    def plot_param(self,param,spec):\n",
    "\n",
    "        x=linspace(1,len(self.lines),len(self.lines))\n",
    "\n",
    "        if param=='z':\n",
    "            y=self.z\n",
    "            err=self.err_z\n",
    "        \n",
    "        elif param=='b':\n",
    "            y=self.b\n",
    "            err=self.err_b\n",
    "        \n",
    "        elif param=='logN':\n",
    "            y=self.logN\n",
    "            err=self.err_logN\n",
    "        \n",
    "        elif param=='chi_sq':\n",
    "            y=self.chi_sq\n",
    "            \n",
    "\n",
    "        plt.scatter(x,y,label=spec,s=50)\n",
    "        plt.plot(x,y,ls='--')\n",
    "        plt.ylabel(f'{param}',labelpad=15)\n",
    "        plt.xlabel('line',labelpad=15)\n",
    "        plt.xticks(x,self.lines)\n",
    "\n",
    "fits_param_low=fits_param(low)\n",
    "fits_param_high=fits_param(high)\n",
    "fits_param_mean=fits_param(mean_cont)\n",
    "\n",
    "err_ml=fits_param_mean.b-fits_param_low.b\n",
    "err_mh=fits_param_mean.b-fits_param_high.b\n",
    "\n",
    "err_ml=[abs(round(x,2)) for x in err_ml]\n",
    "err_mh=[abs(round(x,2)) for x in err_mh]\n",
    "\n",
    "# print(fits_param_mean.lines)\n",
    "# print(err_ml)\n",
    "# print(err_mh)\n",
    "# quit()\n",
    "lines=fits_param_mean.lines\n",
    "\n",
    "for i in range(len(err_ml)):\n",
    "    print(f'{lines[i][:4]}   {err_ml[i]}    {err_mh[i]}')\n",
    "\n",
    "# fits_param_unbinned=fits_param(unbinned)\n",
    "\n",
    "# plt.figure()\n",
    "\n",
    "# fits_param_mean.plot_param('chi_sq','rebinned')\n",
    "# # fits_param_low.plot_param('z','lower continuum')\n",
    "# # fits_param_high.plot_param('z','upper continuum')\n",
    "# fits_param_unbinned.plot_param('chi_sq','oversampled')\n",
    "# plt.title(r'${\\chi}^{2}$ values for rebinned and oversampled spectrum')\n",
    "\n",
    "# plt.legend()\n",
    "# plt.show()"
   ]
  },
  {
   "cell_type": "markdown",
   "metadata": {},
   "source": [
    "'bin v/s unbinned spectrum plot'"
   ]
  },
  {
   "cell_type": "code",
   "execution_count": null,
   "metadata": {},
   "outputs": [],
   "source": [
    "file='PG0003+158_rebinned.fits'\n",
    "\n",
    "data_a=loadtxt('Data/spec_PG0003+158_v3.dat')\n",
    "\n",
    "wave_a=data_a['WAVE']\n",
    "flux_a=data_a['FLUX']\n",
    "\n",
    "hdu_org=fits.open('Data/PG0003+158.fits')\n",
    "data_org=Table(hdu_org[1].data)\n",
    "\n",
    "wave_org=data_org['WAVE'][data_org['WAVE']>=1132.7]\n",
    "flux_org=data_org['FLUX'][data_org['WAVE']>=1132.7]\n",
    "\n",
    "\n",
    "hdu=fits.open(f'Data/{file}')\n",
    "data=Table(hdu[1].data)\n",
    "\n",
    "wave=data['WAVE']\n",
    "flux=data['FLUX']\n",
    "cont=data['CONT_FLUX']\n",
    "err=data['ERROR']\n",
    "\n",
    "\n",
    "plt.step(wave_org,flux_org,label='Unbinned spectrum')\n",
    "plt.step(wave,flux,label='My rebinned spectrum')\n",
    "plt.step(wave_a,flux_a,label='Your rebinned spectrum')\n",
    "# plt.plot(wave,cont,label='mean')\n",
    "# plt.plot(wave,cont*0.97,label='lower',ls='--')\n",
    "# plt.plot(wave,cont*1.03,label='upper',ls='--')\n",
    "plt.ylabel('Flux')\n",
    "plt.xlabel('Wavelength')\n",
    "plt.legend()\n",
    "plt.show()"
   ]
  },
  {
   "cell_type": "markdown",
   "metadata": {},
   "source": [
    "'equivalent width'"
   ]
  },
  {
   "cell_type": "code",
   "execution_count": null,
   "metadata": {},
   "outputs": [],
   "source": [
    "hdu_unbin=fits.open('Data/PG0003+158_unbinned.fits')\n",
    "hdu_bin=fits.open('Data/PG0003+158_rebinned.fits')\n",
    "\n",
    "class Spectrum():\n",
    "\n",
    "    def __init__(self,hdu):\n",
    "\n",
    "        data=Table(hdu[1].data)\n",
    "\n",
    "        self.wave=data['WAVE']\n",
    "        self.flux=data['FLUX']\n",
    "        self.cont=data['CONT_FLUX']\n",
    "        self.err=data['ERROR']\n",
    "    \n",
    "    def eqw(self,ions):\n",
    "        \n",
    "        cont=self.cont\n",
    "        wave=self.wave\n",
    "        flux=self.flux\n",
    "\n",
    "        eq_w=[]\n",
    "\n",
    "        for i in ions:\n",
    "\n",
    "            wave_slice=[]\n",
    "            flux_slice=[]\n",
    "            cont_slice=[]\n",
    "\n",
    "            for j in range(len(wave)):\n",
    "                if ions[i][0] <= wave[j] <= ions[i][1]:\n",
    "                    wave_slice.append(wave[j])\n",
    "                    flux_slice.append(flux[j])\n",
    "                    cont_slice.append(cont[j])\n",
    "\n",
    "            integral=simpson(flux_slice,wave_slice)\n",
    "            w=(ions[i][1]-ions[i][0])-(integral/mean(cont_slice))\n",
    "\n",
    "            eq_w.append(w)\n",
    "\n",
    "        return eq_w\n",
    "\n",
    "\n",
    "\n",
    "ions={'Ha':[1636.55,1639.225],'Hb':[1381.1,1383.264],'OVI_1031':[1389.856,1391.254],'OVI_1037':[1397.816,1398.877],'CII':[1396.727,1396.995],'CIII':[1310.485,1311.182],'SiII':[1698.778,1699.039],'SiIII':[1626.068,1626.403]}\n",
    "\n",
    "\n",
    "spec_unbin=Spectrum(hdu_unbin)\n",
    "spec_bin=Spectrum(hdu_bin)\n",
    "\n",
    "plt.step(spec_bin.wave,spec_bin.flux)\n",
    "plt.show()\n",
    "\n",
    "eq_w_unbin=array(spec_unbin.eqw(ions))\n",
    "eq_w_bin=array(spec_bin.eqw(ions))\n",
    "\n",
    "diff=eq_w_bin-eq_w_unbin\n",
    "\n",
    "x=linspace(1,len(ions),len(ions))\n",
    "\n",
    "plt.plot(x,eq_w_unbin,ls='--')\n",
    "plt.plot(x,eq_w_bin,ls='--')\n",
    "plt.scatter(x,eq_w_unbin,label='unbinned')\n",
    "plt.scatter(x,eq_w_bin,label='rebinned')\n",
    "plt.xticks(x,ions.keys())\n",
    "plt.xlabel('Lines',labelpad=15)\n",
    "plt.ylabel('Equivalent Width',labelpad=15)\n",
    "plt.legend()\n",
    "plt.show()\n",
    "\n",
    "plt.step(spec_unbin.wave,spec_unbin.flux)\n",
    "plt.plot(spec_unbin.wave,spec_unbin.cont)\n",
    "plt.show()"
   ]
  },
  {
   "cell_type": "markdown",
   "metadata": {},
   "source": [
    "'Velocity separation of components'"
   ]
  },
  {
   "cell_type": "code",
   "execution_count": null,
   "metadata": {},
   "outputs": [],
   "source": [
    "data=loadtxt('wavelengths_fit.txt',dtype=str)\n",
    "data_rest=loadtxt('Data/rest_wave.txt',dtype=str)\n",
    "\n",
    "ion=data_rest[:,1]\n",
    "wave_rest=data_rest[:,0].astype(float)\n",
    "\n",
    "rest_wave={}\n",
    "\n",
    "for i in range(len(ion)):\n",
    "    rest_wave.update({ion[i]:wave_rest[i]})\n",
    "\n",
    "line=data[1:,0]\n",
    "wave=data[1:,1].astype(float)\n",
    "v=[]\n",
    "\n",
    "z_abs=(wave[3]-rest_wave['OVI_1031'])/rest_wave['OVI_1031']\n",
    "\n",
    "for i in range(len(line)):\n",
    "\n",
    "    cen_wave_obs=(1+z_abs)*rest_wave[line[i]]\n",
    "    a=((wave[i]**2-(cen_wave_obs**2))/(wave[i]**2+(cen_wave_obs**2)))\n",
    "    v.append(3e5*(a))\n",
    "\n",
    "print(line)\n",
    "print(v)"
   ]
  },
  {
   "cell_type": "markdown",
   "metadata": {},
   "source": [
    "'temperature using 0 VI and HI'"
   ]
  },
  {
   "cell_type": "code",
   "execution_count": 1,
   "metadata": {},
   "outputs": [
    {
     "name": "stdout",
     "output_type": "stream",
     "text": [
      "5.287870791392982 194030.85231256136\n",
      "5.212638782879954 163169.4249143681\n",
      "5.3530537760647015 225451.8358271738\n"
     ]
    }
   ],
   "source": [
    "# bHiI=62.49162\n",
    "# bOviVI=29.63435\n",
    "\n",
    "# T=(16/(15*(0.129**2)))*(bHiI**2-(bOviVI**2))\n",
    "\n",
    "from numpy import log10\n",
    "\n",
    "bHiI=[62.49,2.92]\n",
    "bOviVI=[29.63,2.04]\n",
    "\n",
    "T=(16/(15*(0.129**2)))*(bHiI[0]**2-(bOviVI[0]**2))\n",
    "T_low=(16/(15*(0.129**2)))*((bHiI[0]-bHiI[1])**2-((bOviVI[0]+bOviVI[1])**2))\n",
    "T_high=(16/(15*(0.129**2)))*((bHiI[0]+bHiI[1])**2-((bOviVI[0]-bOviVI[1])**2))\n",
    "\n",
    "print(log10(T),T)\n",
    "print(log10(T_low),T_low)\n",
    "print(log10(T_high),T_high)\n"
   ]
  },
  {
   "cell_type": "code",
   "execution_count": 1,
   "metadata": {},
   "outputs": [
    {
     "name": "stdout",
     "output_type": "stream",
     "text": [
      "-65.4490012654278\n"
     ]
    }
   ],
   "source": [
    "v_abs=3e5*(((1+0.347579)**2-1)/((1+0.347579)**2+1))\n",
    "v_2=3e5*(((1+0.3479)**2-1)/((1+0.3479)**2+1))\n",
    "\n",
    "print(v_abs-v_2)\n"
   ]
  },
  {
   "cell_type": "code",
   "execution_count": 5,
   "metadata": {},
   "outputs": [
    {
     "name": "stdout",
     "output_type": "stream",
     "text": [
      "[1242.804  1238.821  1037.616  1031.927   977.02    918.1294  919.3514\n",
      "  920.9631  923.1504  926.2257  930.7483  937.8035  949.7431  972.5368\n",
      " 1025.7223 1215.6701 1036.3367 1036.3367  977.0201 1190.4158 1193.2897\n",
      " 1260.4221 1206.5   ]\n",
      "['NVB' 'NVA' 'OVI_1038' 'OVI_1032' 'CIII_977' 'HI_918' 'HI_919' 'HI_920'\n",
      " 'HI_923' 'HI_926' 'HI_930' 'HI_937' 'HI_949' 'HI_972' 'HI_1025' 'HI_1215'\n",
      " 'CII_1036' 'CII_1036' 'CIII_977' 'SiII_1190' 'SiII_1193' 'SiII_1260'\n",
      " 'SiIII_1206']\n"
     ]
    }
   ],
   "source": [
    "from numpy import *\n",
    "\n",
    "data=loadtxt('Data/rest_wave.txt',dtype=str)\n",
    "\n",
    "wave=data[:,0].astype(float)\n",
    "ion=data[:,1]\n",
    "\n",
    "mask=logical_and(wave>=840,wave<=1333)\n",
    "\n"
   ]
  },
  {
   "cell_type": "code",
   "execution_count": 2,
   "metadata": {},
   "outputs": [
    {
     "name": "stdout",
     "output_type": "stream",
     "text": [
      "T = 16574.39729911336  logT = 4.21943774495444\n",
      "T = -16278.741989937233  logT = nan\n",
      "T = 15716.64808249148  logT = 4.1963599288217965\n",
      "T = 10491.267663312614  logT = 4.020827967308842\n"
     ]
    },
    {
     "name": "stderr",
     "output_type": "stream",
     "text": [
      "/tmp/ipykernel_331/2317725232.py:14: RuntimeWarning: invalid value encountered in log10\n",
      "  print(f'T = {T}  logT = {log10(T)}')\n"
     ]
    }
   ],
   "source": [
    "from numpy import log10\n",
    "\n",
    "class line():\n",
    "\n",
    "    def __init__(self,m,b_val):\n",
    "        \n",
    "        self.b=b_val\n",
    "        self.m=m\n",
    "\n",
    "    def temp(self):\n",
    "\n",
    "        T=(self.m/(self.m-1))*(16.2**2-((self.b)**2))*(1/0.129**2)\n",
    "\n",
    "        print(f'T = {T}  logT = {log10(T)}')\n",
    "\n",
    "b_CII=line(12,3.1)\n",
    "b_CIII=line(12,22.6)\n",
    "b_SiII=line(28,3.2)\n",
    "b_SiIII=line(28,9.7)\n",
    "\n",
    "b_CII.temp()\n",
    "b_CIII.temp()\n",
    "b_SiII.temp()\n",
    "b_SiIII.temp()"
   ]
  },
  {
   "cell_type": "code",
   "execution_count": 2,
   "metadata": {},
   "outputs": [
    {
     "name": "stdout",
     "output_type": "stream",
     "text": [
      "SiIII   -8.27    8.17 \n",
      "CIV   5.72    3.65 \n",
      "HI*   67978.70    9.49 \n",
      "HI*   68040.43    7.32 \n",
      "OVI   9.42    2.40 \n",
      "HI   -4.67    0.57 \n",
      "HI   8.96    0.45 \n"
     ]
    }
   ],
   "source": [
    "from numpy import *\n",
    "\n",
    "param=loadtxt('../VPfit/3c263/z=0.140756/fit_params.txt',dtype=str)\n",
    "\n",
    "\n",
    "line=param[:,0]\n",
    "z=param[:,1].astype(float)\n",
    "z_err=param[:,2].astype(float)\n",
    "\n",
    "v_z=lambda z : 3e5*(((1+z)**2-1)/((1+z)**2+1))\n",
    "del_vz=lambda z,z_err: 4*3e5*((1+z)/(((1+z)**2)+1)**2)*z_err\n",
    "\n",
    "z_abs=0.14072\n",
    "\n",
    "v_abs=v_z(z_abs)\n",
    "\n",
    "for i in range(len(line)):\n",
    "    print(f'{line[i]}   {v_z(z[i])-v_abs:.2f}    {del_vz(z[i],z_err[i]):.2f} ')\n"
   ]
  }
 ],
 "metadata": {
  "kernelspec": {
   "display_name": "Python 3",
   "language": "python",
   "name": "python3"
  },
  "language_info": {
   "codemirror_mode": {
    "name": "ipython",
    "version": 3
   },
   "file_extension": ".py",
   "mimetype": "text/x-python",
   "name": "python",
   "nbconvert_exporter": "python",
   "pygments_lexer": "ipython3",
   "version": "3.10.12"
  },
  "orig_nbformat": 4
 },
 "nbformat": 4,
 "nbformat_minor": 2
}
