{
 "cells": [
  {
   "cell_type": "code",
   "execution_count": 1,
   "metadata": {},
   "outputs": [],
   "source": [
    "from astropy.io import fits,ascii\n",
    "from astropy.table import Table,Column\n",
    "import matplotlib.pyplot as plt\n",
    "from numpy import *\n",
    "from scipy.integrate import simpson"
   ]
  },
  {
   "cell_type": "code",
   "execution_count": 9,
   "metadata": {},
   "outputs": [
    {
     "data": {
      "image/png": "[encoded data removed]",
      "text/plain": [
       "<Figure size 640x480 with 1 Axes>"
      ]
     },
     "metadata": {},
     "output_type": "display_data"
    }
   ],
   "source": [
    "import matplotlib.pyplot as plt\n",
    "from numpy import *\n",
    "from scipy.interpolate import CubicSpline\n",
    "\n",
    "physical=array([0,5,6,7,8,9,10,11,12,13,14,15,16,17,18,19,20,21])\n",
    "pixel=array([1122,1589,1701,1822,1951,2091,2243,2408,2588,2784,3000,3239,3507,3816,4166,4564,5014,5526])\n",
    "\n",
    "f=CubicSpline(pixel,physical)\n",
    "\n",
    "\n",
    "plt.scatter(pixel,physical)\n",
    "plt.plot(linspace(1122,5526,2000),f(linspace(1122,5526,2000)),ls='--')\n",
    "# plt.yscale('log')\n",
    "# plt.xscale('log')\n",
    "plt.show()\n"
   ]
  },
  {
   "cell_type": "markdown",
   "metadata": {},
   "source": [
    "Error in T from doppler parameters"
   ]
  },
  {
   "cell_type": "code",
   "execution_count": 8,
   "metadata": {},
   "outputs": [
    {
     "name": "stdout",
     "output_type": "stream",
     "text": [
      "0.05429832258138818\n",
      "5.279487495655089\n"
     ]
    }
   ],
   "source": [
    "from numpy import *\n",
    "from scipy.constants import * \n",
    "\n",
    "bH=62000\n",
    "err_bH=3000\n",
    "bO=30000\n",
    "err_bO=2000\n",
    "\n",
    "err=((4/log(10))*(1/(bH**2+bO**2)**2)*((bH*err_bH)**2+(bO*err_bO)**2))**0.5\n",
    "print(err)\n",
    "T=8*(m_p+m_e)*(bH**2-bO**2)/(15*k)\n",
    "print(log10(T))"
   ]
  },
  {
   "cell_type": "markdown",
   "metadata": {},
   "source": [
    "Composite fit from individual fits"
   ]
  },
  {
   "cell_type": "code",
   "execution_count": null,
   "metadata": {},
   "outputs": [],
   "source": [
    "file_path='Data/VPfit_fits_rebinned/Metals_HI'\n",
    "\n",
    "Data/sys_0,347_PG0003+158/sys_0,347_PG0003+158=loadtxt(f'{file_path}/HI_1025.txt',comments='!')\n",
    "wave=data[:,0]\n",
    "cont=data[:,3]\n",
    "\n",
    "data1=loadtxt(f'{file_path}/HI_1025_1.txt',comments='!')\n",
    "wave1=data1[:,0]\n",
    "cont1=data1[:,3]\n",
    "\n",
    "data2=loadtxt(f'{file_path}/HI_1025_2.txt',comments='!')\n",
    "wave2=data2[:,0]\n",
    "cont2=data2[:,3]\n",
    "\n",
    "data3=loadtxt(f'{file_path}/HI_1025_3.txt',comments='!')\n",
    "wave3=data3[:,0]\n",
    "cont3=data3[:,3]\n",
    "\n",
    "\n",
    "plt.plot(wave,cont)\n",
    "plt.plot(wave1,cont1,ls='--')\n",
    "plt.plot(wave2,cont2,ls='--')\n",
    "plt.plot(wave3,cont3,ls='--')\n",
    "plt.plot(wave,(cont1*cont2*cont3),ls='-.')\n",
    "\n",
    "plt.show()"
   ]
  },
  {
   "cell_type": "markdown",
   "metadata": {},
   "source": [
    "Velocity separation between two redshifts"
   ]
  },
  {
   "cell_type": "code",
   "execution_count": 1,
   "metadata": {},
   "outputs": [
    {
     "name": "stdout",
     "output_type": "stream",
     "text": [
      "[-64527.13699324   8439.24042      8495.4659106   16092.58771012]\n"
     ]
    }
   ],
   "source": [
    "from numpy import *\n",
    "# z1=array([0.346776,0.347585,0.347912,0.347579,0.347884,0.347895,0.347923,0.347901,0.347914]) \n",
    "z1=array([0.083078,0.386036, 0.386296,0.421913]) \n",
    "z2=0.347579\n",
    "# z3=array([0.346763,0.347588,0.347916,0.347586,0.347889,0.347906,0.347950,0.347923,0.347959])\n",
    "# z1=0.346845\n",
    "# z2=0.347579\n",
    "\n",
    "\n",
    "del_v1=3e5*((1+z1)**2-(1+z2)**2)/((1+z1)**2+(1+z2)**2)\n",
    "print(del_v1)\n",
    "# z2=0.347586\n",
    "# del_v2=3e5*((1+z3)**2-(1+z2)**2)/((1+z3)**2+(1+z2)**2)\n",
    "# print(del_v2)"
   ]
  },
  {
   "cell_type": "markdown",
   "metadata": {},
   "source": [
    "comparison of different continuum, binning"
   ]
  },
  {
   "cell_type": "code",
   "execution_count": 2,
   "metadata": {},
   "outputs": [
    {
     "name": "stdout",
     "output_type": "stream",
     "text": [
      "[0.07, 0.04, 0.03, 0.03, 0.0, 0.05, 0.0, 0.16, 0.02]\n",
      "[0.07, 0.03, 0.03, 0.02, 0.01, 0.19, 0.0, 0.09, 0.01]\n"
     ]
    },
    {
     "ename": "NameError",
     "evalue": "name 'plt' is not defined",
     "output_type": "error",
     "traceback": [
      "\u001b[0;31m---------------------------------------------------------------------------\u001b[0m",
      "\u001b[0;31mNameError\u001b[0m                                 Traceback (most recent call last)",
      "Cell \u001b[0;32mIn[2], line 64\u001b[0m\n\u001b[1;32m     60\u001b[0m quit()\n\u001b[1;32m     62\u001b[0m fits_param_unbinned\u001b[38;5;241m=\u001b[39mfits_param(unbinned)\n\u001b[0;32m---> 64\u001b[0m \u001b[43mplt\u001b[49m\u001b[38;5;241m.\u001b[39mfigure()\n\u001b[1;32m     66\u001b[0m fits_param_mean\u001b[38;5;241m.\u001b[39mplot_param(\u001b[38;5;124m'\u001b[39m\u001b[38;5;124mchi_sq\u001b[39m\u001b[38;5;124m'\u001b[39m,\u001b[38;5;124m'\u001b[39m\u001b[38;5;124mrebinned\u001b[39m\u001b[38;5;124m'\u001b[39m)\n\u001b[1;32m     67\u001b[0m \u001b[38;5;66;03m# fits_param_low.plot_param('z','lower continuum')\u001b[39;00m\n\u001b[1;32m     68\u001b[0m \u001b[38;5;66;03m# fits_param_high.plot_param('z','upper continuum')\u001b[39;00m\n",
      "\u001b[0;31mNameError\u001b[0m: name 'plt' is not defined"
     ]
    },
    {
     "ename": "",
     "evalue": "",
     "output_type": "error",
     "traceback": [
      "\u001b[1;31mThe Kernel crashed while executing code in the current cell or a previous cell. \n",
      "\u001b[1;31mPlease review the code in the cell(s) to identify a possible cause of the failure. \n",
      "\u001b[1;31mClick <a href='https://aka.ms/vscodeJupyterKernelCrash'>here</a> for more info. \n",
      "\u001b[1;31mView Jupyter <a href='command:jupyter.viewOutput'>log</a> for further details."
     ]
    }
   ],
   "source": [
    "from numpy import *\n",
    "\n",
    "low=loadtxt('Data/sys_0,347_PG0003+158/fit_param_binned_low.txt',dtype=str)\n",
    "high=loadtxt('Data/sys_0,347_PG0003+158/fit_param_binned_high.txt',dtype=str)\n",
    "mean_cont=loadtxt('Data/sys_0,347_PG0003+158/fit_param_binned_mean.txt',dtype=str)\n",
    "unbinned=loadtxt('Data/sys_0,347_PG0003+158/fit_param_unbinned.txt',dtype=str)\n",
    "\n",
    "class fits_param():\n",
    "\n",
    "    def __init__(self,data):\n",
    "        \n",
    "        self.lines=data[1:,0]\n",
    "        self.z=data[1:,1].astype(float)\n",
    "        self.b=data[1:,3].astype(float)\n",
    "        self.logN=data[1:,5].astype(float)\n",
    "        self.err_z=data[1:,2].astype(float)\n",
    "        self.err_b=data[1:,4].astype(float)\n",
    "        self.err_logN=data[1:,6].astype(float)\n",
    "        self.chi_sq=data[1:,7].astype(float)\n",
    "\n",
    "\n",
    "    def plot_param(self,param,spec):\n",
    "\n",
    "        x=linspace(1,len(self.lines),len(self.lines))\n",
    "\n",
    "        if param=='z':\n",
    "            y=self.z\n",
    "            err=self.err_z\n",
    "        \n",
    "        elif param=='b':\n",
    "            y=self.b\n",
    "            err=self.err_b\n",
    "        \n",
    "        elif param=='logN':\n",
    "            y=self.logN\n",
    "            err=self.err_logN\n",
    "        \n",
    "        elif param=='chi_sq':\n",
    "            y=self.chi_sq\n",
    "            \n",
    "\n",
    "        plt.scatter(x,y,label=spec,s=50)\n",
    "        plt.plot(x,y,ls='--')\n",
    "        plt.ylabel(f'{param}',labelpad=15)\n",
    "        plt.xlabel('line',labelpad=15)\n",
    "        plt.xticks(x,self.lines)\n",
    "\n",
    "fits_param_low=fits_param(low)\n",
    "fits_param_high=fits_param(high)\n",
    "fits_param_mean=fits_param(mean_cont)\n",
    "\n",
    "err_ml=fits_param_mean.logN-fits_param_low.logN\n",
    "err_mh=fits_param_mean.logN-fits_param_high.logN\n",
    "\n",
    "err_ml=[abs(round(x,2)) for x in err_ml]\n",
    "err_mh=[abs(round(x,2)) for x in err_mh]\n",
    "\n",
    "print(err_ml)\n",
    "print(err_mh)\n",
    "quit()\n",
    "\n",
    "fits_param_unbinned=fits_param(unbinned)\n",
    "\n",
    "plt.figure()\n",
    "\n",
    "fits_param_mean.plot_param('chi_sq','rebinned')\n",
    "# fits_param_low.plot_param('z','lower continuum')\n",
    "# fits_param_high.plot_param('z','upper continuum')\n",
    "fits_param_unbinned.plot_param('chi_sq','oversampled')\n",
    "plt.title(r'${\\chi}^{2}$ values for rebinned and oversampled spectrum')\n",
    "\n",
    "plt.legend()\n",
    "plt.show()"
   ]
  },
  {
   "cell_type": "markdown",
   "metadata": {},
   "source": [
    "'bin v/s unbinned spectrum plot'"
   ]
  },
  {
   "cell_type": "code",
   "execution_count": null,
   "metadata": {},
   "outputs": [],
   "source": [
    "file='PG0003+158_rebinned.fits'\n",
    "\n",
    "data_a=loadtxt('Data/spec_PG0003+158_v3.dat')\n",
    "\n",
    "wave_a=data_a['WAVE']\n",
    "flux_a=data_a['FLUX']\n",
    "\n",
    "hdu_org=fits.open('Data/PG0003+158.fits')\n",
    "data_org=Table(hdu_org[1].data)\n",
    "\n",
    "wave_org=data_org['WAVE'][data_org['WAVE']>=1132.7]\n",
    "flux_org=data_org['FLUX'][data_org['WAVE']>=1132.7]\n",
    "\n",
    "\n",
    "hdu=fits.open(f'Data/{file}')\n",
    "data=Table(hdu[1].data)\n",
    "\n",
    "wave=data['WAVE']\n",
    "flux=data['FLUX']\n",
    "cont=data['CONT_FLUX']\n",
    "err=data['ERROR']\n",
    "\n",
    "\n",
    "plt.step(wave_org,flux_org,label='Unbinned spectrum')\n",
    "plt.step(wave,flux,label='My rebinned spectrum')\n",
    "plt.step(wave_a,flux_a,label='Your rebinned spectrum')\n",
    "# plt.plot(wave,cont,label='mean')\n",
    "# plt.plot(wave,cont*0.97,label='lower',ls='--')\n",
    "# plt.plot(wave,cont*1.03,label='upper',ls='--')\n",
    "plt.ylabel('Flux')\n",
    "plt.xlabel('Wavelength')\n",
    "plt.legend()\n",
    "plt.show()"
   ]
  },
  {
   "cell_type": "markdown",
   "metadata": {},
   "source": [
    "'equivalent width'"
   ]
  },
  {
   "cell_type": "code",
   "execution_count": null,
   "metadata": {},
   "outputs": [],
   "source": [
    "hdu_unbin=fits.open('Data/PG0003+158_unbinned.fits')\n",
    "hdu_bin=fits.open('Data/PG0003+158_rebinned.fits')\n",
    "\n",
    "class Spectrum():\n",
    "\n",
    "    def __init__(self,hdu):\n",
    "\n",
    "        data=Table(hdu[1].data)\n",
    "\n",
    "        self.wave=data['WAVE']\n",
    "        self.flux=data['FLUX']\n",
    "        self.cont=data['CONT_FLUX']\n",
    "        self.err=data['ERROR']\n",
    "    \n",
    "    def eqw(self,ions):\n",
    "        \n",
    "        cont=self.cont\n",
    "        wave=self.wave\n",
    "        flux=self.flux\n",
    "\n",
    "        eq_w=[]\n",
    "\n",
    "        for i in ions:\n",
    "\n",
    "            wave_slice=[]\n",
    "            flux_slice=[]\n",
    "            cont_slice=[]\n",
    "\n",
    "            for j in range(len(wave)):\n",
    "                if ions[i][0] <= wave[j] <= ions[i][1]:\n",
    "                    wave_slice.append(wave[j])\n",
    "                    flux_slice.append(flux[j])\n",
    "                    cont_slice.append(cont[j])\n",
    "\n",
    "            integral=simpson(flux_slice,wave_slice)\n",
    "            w=(ions[i][1]-ions[i][0])-(integral/mean(cont_slice))\n",
    "\n",
    "            eq_w.append(w)\n",
    "\n",
    "        return eq_w\n",
    "\n",
    "\n",
    "\n",
    "ions={'Ha':[1636.55,1639.225],'Hb':[1381.1,1383.264],'OVI_1031':[1389.856,1391.254],'OVI_1037':[1397.816,1398.877],'CII':[1396.727,1396.995],'CIII':[1310.485,1311.182],'SiII':[1698.778,1699.039],'SiIII':[1626.068,1626.403]}\n",
    "\n",
    "\n",
    "spec_unbin=Spectrum(hdu_unbin)\n",
    "spec_bin=Spectrum(hdu_bin)\n",
    "\n",
    "plt.step(spec_bin.wave,spec_bin.flux)\n",
    "plt.show()\n",
    "\n",
    "eq_w_unbin=array(spec_unbin.eqw(ions))\n",
    "eq_w_bin=array(spec_bin.eqw(ions))\n",
    "\n",
    "diff=eq_w_bin-eq_w_unbin\n",
    "\n",
    "x=linspace(1,len(ions),len(ions))\n",
    "\n",
    "plt.plot(x,eq_w_unbin,ls='--')\n",
    "plt.plot(x,eq_w_bin,ls='--')\n",
    "plt.scatter(x,eq_w_unbin,label='unbinned')\n",
    "plt.scatter(x,eq_w_bin,label='rebinned')\n",
    "plt.xticks(x,ions.keys())\n",
    "plt.xlabel('Lines',labelpad=15)\n",
    "plt.ylabel('Equivalent Width',labelpad=15)\n",
    "plt.legend()\n",
    "plt.show()\n",
    "\n",
    "plt.step(spec_unbin.wave,spec_unbin.flux)\n",
    "plt.plot(spec_unbin.wave,spec_unbin.cont)\n",
    "plt.show()"
   ]
  },
  {
   "cell_type": "markdown",
   "metadata": {},
   "source": [
    "'Velocity separation of components'"
   ]
  },
  {
   "cell_type": "code",
   "execution_count": null,
   "metadata": {},
   "outputs": [],
   "source": [
    "data=loadtxt('wavelengths_fit.txt',dtype=str)\n",
    "data_rest=loadtxt('Data/rest_wave.txt',dtype=str)\n",
    "\n",
    "ion=data_rest[:,1]\n",
    "wave_rest=data_rest[:,0].astype(float)\n",
    "\n",
    "rest_wave={}\n",
    "\n",
    "for i in range(len(ion)):\n",
    "    rest_wave.update({ion[i]:wave_rest[i]})\n",
    "\n",
    "line=data[1:,0]\n",
    "wave=data[1:,1].astype(float)\n",
    "v=[]\n",
    "\n",
    "z_abs=(wave[3]-rest_wave['OVI_1031'])/rest_wave['OVI_1031']\n",
    "\n",
    "for i in range(len(line)):\n",
    "\n",
    "    cen_wave_obs=(1+z_abs)*rest_wave[line[i]]\n",
    "    a=((wave[i]**2-(cen_wave_obs**2))/(wave[i]**2+(cen_wave_obs**2)))\n",
    "    v.append(3e5*(a))\n",
    "\n",
    "print(line)\n",
    "print(v)"
   ]
  },
  {
   "cell_type": "markdown",
   "metadata": {},
   "source": [
    "'temperature using 0 VI and HI'"
   ]
  },
  {
   "cell_type": "code",
   "execution_count": 1,
   "metadata": {},
   "outputs": [
    {
     "name": "stdout",
     "output_type": "stream",
     "text": [
      "5.287870791392982 194030.85231256136\n",
      "5.212638782879954 163169.4249143681\n",
      "5.3530537760647015 225451.8358271738\n"
     ]
    }
   ],
   "source": [
    "# bHI=62.49162\n",
    "# bOVI=29.63435\n",
    "\n",
    "# T=(16/(15*(0.129**2)))*(bHI**2-(bOVI**2))\n",
    "\n",
    "from numpy import log10\n",
    "\n",
    "bHI=[62.49,2.92]\n",
    "bOVI=[29.63,2.04]\n",
    "\n",
    "T=(16/(15*(0.129**2)))*(bHI[0]**2-(bOVI[0]**2))\n",
    "T_low=(16/(15*(0.129**2)))*((bHI[0]-bHI[1])**2-((bOVI[0]+bOVI[1])**2))\n",
    "T_high=(16/(15*(0.129**2)))*((bHI[0]+bHI[1])**2-((bOVI[0]-bOVI[1])**2))\n",
    "\n",
    "print(log10(T),T)\n",
    "print(log10(T_low),T_low)\n",
    "print(log10(T_high),T_high)\n"
   ]
  },
  {
   "cell_type": "code",
   "execution_count": 1,
   "metadata": {},
   "outputs": [
    {
     "name": "stdout",
     "output_type": "stream",
     "text": [
      "-65.4490012654278\n"
     ]
    }
   ],
   "source": [
    "v_abs=3e5*(((1+0.347579)**2-1)/((1+0.347579)**2+1))\n",
    "v_2=3e5*(((1+0.3479)**2-1)/((1+0.3479)**2+1))\n",
    "\n",
    "print(v_abs-v_2)\n"
   ]
  },
  {
   "cell_type": "code",
   "execution_count": 5,
   "metadata": {},
   "outputs": [
    {
     "name": "stdout",
     "output_type": "stream",
     "text": [
      "[1242.804  1238.821  1037.616  1031.927   977.02    918.1294  919.3514\n",
      "  920.9631  923.1504  926.2257  930.7483  937.8035  949.7431  972.5368\n",
      " 1025.7223 1215.6701 1036.3367 1036.3367  977.0201 1190.4158 1193.2897\n",
      " 1260.4221 1206.5   ]\n",
      "['NVB' 'NVA' 'OVI_1038' 'OVI_1032' 'CIII_977' 'HI_918' 'HI_919' 'HI_920'\n",
      " 'HI_923' 'HI_926' 'HI_930' 'HI_937' 'HI_949' 'HI_972' 'HI_1025' 'HI_1215'\n",
      " 'CII_1036' 'CII_1036' 'CIII_977' 'SiII_1190' 'SiII_1193' 'SiII_1260'\n",
      " 'SiIII_1206']\n"
     ]
    }
   ],
   "source": [
    "from numpy import *\n",
    "\n",
    "data=loadtxt('Data/rest_wave.txt',dtype=str)\n",
    "\n",
    "wave=data[:,0].astype(float)\n",
    "ion=data[:,1]\n",
    "\n",
    "mask=logical_and(wave>=840,wave<=1333)\n",
    "\n"
   ]
  },
  {
   "cell_type": "code",
   "execution_count": 2,
   "metadata": {},
   "outputs": [
    {
     "name": "stdout",
     "output_type": "stream",
     "text": [
      "T = 16574.39729911336  logT = 4.21943774495444\n",
      "T = -16278.741989937233  logT = nan\n",
      "T = 15716.64808249148  logT = 4.1963599288217965\n",
      "T = 10491.267663312614  logT = 4.020827967308842\n"
     ]
    },
    {
     "name": "stderr",
     "output_type": "stream",
     "text": [
      "/tmp/ipykernel_331/2317725232.py:14: RuntimeWarning: invalid value encountered in log10\n",
      "  print(f'T = {T}  logT = {log10(T)}')\n"
     ]
    }
   ],
   "source": [
    "from numpy import log10\n",
    "\n",
    "class line():\n",
    "\n",
    "    def __init__(self,m,b_val):\n",
    "        \n",
    "        self.b=b_val\n",
    "        self.m=m\n",
    "\n",
    "    def temp(self):\n",
    "\n",
    "        T=(self.m/(self.m-1))*(16.2**2-((self.b)**2))*(1/0.129**2)\n",
    "\n",
    "        print(f'T = {T}  logT = {log10(T)}')\n",
    "\n",
    "b_CII=line(12,3.1)\n",
    "b_CIII=line(12,22.6)\n",
    "b_SiII=line(28,3.2)\n",
    "b_SiIII=line(28,9.7)\n",
    "\n",
    "b_CII.temp()\n",
    "b_CIII.temp()\n",
    "b_SiII.temp()\n",
    "b_SiIII.temp()"
   ]
  },
  {
   "cell_type": "code",
   "execution_count": 2,
   "metadata": {},
   "outputs": [
    {
     "name": "stdout",
     "output_type": "stream",
     "text": [
      "SiIII   -8.27    8.17 \n",
      "CIV   5.72    3.65 \n",
      "HI*   67978.70    9.49 \n",
      "HI*   68040.43    7.32 \n",
      "OVI   9.42    2.40 \n",
      "HI   -4.67    0.57 \n",
      "HI   8.96    0.45 \n"
     ]
    }
   ],
   "source": [
    "from numpy import *\n",
    "\n",
    "param=loadtxt('../VPfit/3c263/z=0.140756/fit_params.txt',dtype=str)\n",
    "\n",
    "\n",
    "line=param[:,0]\n",
    "z=param[:,1].astype(float)\n",
    "z_err=param[:,2].astype(float)\n",
    "\n",
    "v_z=lambda z : 3e5*(((1+z)**2-1)/((1+z)**2+1))\n",
    "del_vz=lambda z,z_err: 4*3e5*((1+z)/(((1+z)**2)+1)**2)*z_err\n",
    "\n",
    "z_abs=0.14072\n",
    "\n",
    "v_abs=v_z(z_abs)\n",
    "\n",
    "for i in range(len(line)):\n",
    "    print(f'{line[i]}   {v_z(z[i])-v_abs:.2f}    {del_vz(z[i],z_err[i]):.2f} ')\n"
   ]
  }
 ],
 "metadata": {
  "kernelspec": {
   "display_name": "Python 3",
   "language": "python",
   "name": "python3"
  },
  "language_info": {
   "codemirror_mode": {
    "name": "ipython",
    "version": 3
   },
   "file_extension": ".py",
   "mimetype": "text/x-python",
   "name": "python",
   "nbconvert_exporter": "python",
   "pygments_lexer": "ipython3",
   "version": "3.8.10"
  },
  "orig_nbformat": 4
 },
 "nbformat": 4,
 "nbformat_minor": 2
}
